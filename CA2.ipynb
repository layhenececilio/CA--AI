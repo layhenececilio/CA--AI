{
 "cells": [
  {
   "cell_type": "markdown",
   "id": "3d5e8ee8",
   "metadata": {},
   "source": [
    "## **Continuous Assessment**\n",
    "\n",
    "\n",
    "**Module Title:** Artificial Intelligence \n",
    "\n",
    "**Assessment Title:** CA2\n",
    "\n",
    "**Lecturer Name:**  David McQuaid\n",
    "\n",
    "**Student Name:** Layhene Prado Cecilio\n",
    "\n",
    "**Student Number:** 2020307\n",
    "\n"
   ]
  },
  {
   "cell_type": "code",
   "execution_count": null,
   "id": "72662361",
   "metadata": {},
   "outputs": [],
   "source": [
    "graph = {\n",
    "    'A' : ['B','C', 'H'],\n",
    "    'B' : ['A', 'C', 'D'],\n",
    "    'C' : ['A', 'B', 'G'],\n",
    "    'D' : ['B', 'E', 'F', 'L'],\n",
    "    'E' : ['D','F', 'W'],\n",
    "    'F' : ['D', 'E', 'G']\n",
    "    'G' : ['C', 'F', 'L']\n",
    "    'H' : ['A', 'K', 'J']\n",
    "    'J' : ['H', 'K', 'N']\n",
    "    'K' : ['H', 'J', 'L']\n",
    "    'L' : ['D', 'G', 'N', 'V', 'W']\n",
    "    'M' : ['L', 'P', 'Q']\n",
    "    'N' : ['J', 'L', 'P', 'S']\n",
    "    'P' : ['N', 'R', 'M']\n",
    "    'Q' : ['M', 'Q', 'S']\n",
    "    'R' : ['P', 'T', 'S']\n",
    "    'S' : []\n",
    "    'T' : ['R', 'U', 'S']\n",
    "    'U' : ['T', 'V', 'S']\n",
    "    'V' : ['L', 'U', 'W', 'S']\n",
    "    'W' : ['E', 'L', 'V', 'Q']\n",
    "    \n",
    "}"
   ]
  }
 ],
 "metadata": {
  "kernelspec": {
   "display_name": "Python 3 (ipykernel)",
   "language": "python",
   "name": "python3"
  },
  "language_info": {
   "codemirror_mode": {
    "name": "ipython",
    "version": 3
   },
   "file_extension": ".py",
   "mimetype": "text/x-python",
   "name": "python",
   "nbconvert_exporter": "python",
   "pygments_lexer": "ipython3",
   "version": "3.9.18"
  }
 },
 "nbformat": 4,
 "nbformat_minor": 5
}
