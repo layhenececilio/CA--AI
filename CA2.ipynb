{
 "cells": [
  {
   "cell_type": "markdown",
   "id": "174afe34",
   "metadata": {},
   "source": [
    "## **Continuous Assessment**\n",
    "\n",
    "\n",
    "**Module Title:** Artificial Intelligence \n",
    "\n",
    "**Assessment Title:** CA2\n",
    "\n",
    "**Lecturer Name:**  David McQuaid\n",
    "\n",
    "**Student Name:** Layhene Prado Cecilio\n",
    "\n",
    "**Student Number:** 2020307\n",
    "\n"
   ]
  },
  {
   "cell_type": "code",
   "execution_count": null,
   "id": "ba710526",
   "metadata": {},
   "outputs": [],
   "source": [
    "graph = {\n",
    "    'A' : ['B','C', 'H'],\n",
    "    'B' : ['D'],\n",
    "    'C' : ['G'],\n",
    "    'D' : ['E', 'F', 'L'],\n",
    "    'E' : ['W'],\n",
    "    'F' : [],\n",
    "    'G' : [],\n",
    "    'H' : ['K', 'J'],\n",
    "    'J' : ['N'],\n",
    "    'K' : [],\n",
    "    'L' : ['M', 'V'],\n",
    "    'M' : ['P', 'Q'],\n",
    "    'N' : ['S'],\n",
    "    'P' : ['R'],\n",
    "    'Q' : [],\n",
    "    'R' : ['T'],\n",
    "    'S' : [],\n",
    "    'T' : ['U'],\n",
    "    'U' : [],\n",
    "    'V' : [],\n",
    "    'W' : []\n",
    "    \n",
    "}"
   ]
  }
 ],
 "metadata": {
  "kernelspec": {
   "display_name": "Python 3 (ipykernel)",
   "language": "python",
   "name": "python3"
  },
  "language_info": {
   "codemirror_mode": {
    "name": "ipython",
    "version": 3
   },
   "file_extension": ".py",
   "mimetype": "text/x-python",
   "name": "python",
   "nbconvert_exporter": "python",
   "pygments_lexer": "ipython3",
   "version": "3.9.18"
  }
 },
 "nbformat": 4,
 "nbformat_minor": 5
}
